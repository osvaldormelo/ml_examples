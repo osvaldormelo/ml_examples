{
 "cells": [
  {
   "cell_type": "code",
   "execution_count": 1,
   "id": "999392d7-ce0a-483f-aa44-48667a6052dc",
   "metadata": {
    "tags": []
   },
   "outputs": [],
   "source": [
    "import torch\n",
    "import torch.nn as nn\n",
    "import pandas as pd"
   ]
  },
  {
   "cell_type": "code",
   "execution_count": null,
   "id": "3a33971f-c2e9-4afe-9f7a-f0cd0b77d266",
   "metadata": {
    "tags": []
   },
   "outputs": [],
   "source": [
    "def convert_celsius_to_farenheit(celsius):\n",
    "    return (1.8 * celsius + 32)"
   ]
  },
  {
   "cell_type": "code",
   "execution_count": 3,
   "id": "e576e094-db3a-48d1-8785-35fb8d7e2342",
   "metadata": {
    "tags": []
   },
   "outputs": [],
   "source": [
    "temp_celsius = [-10,20,28,30, 40]\n",
    "temp_farenheit = [convert_celsius_to_farenheit(temp) for temp in temp_celsius]"
   ]
  },
  {
   "cell_type": "code",
   "execution_count": 4,
   "id": "e3400b38-6473-4a0b-b40e-9c31c3435a38",
   "metadata": {
    "tags": []
   },
   "outputs": [
    {
     "data": {
      "text/html": [
       "<div>\n",
       "<style scoped>\n",
       "    .dataframe tbody tr th:only-of-type {\n",
       "        vertical-align: middle;\n",
       "    }\n",
       "\n",
       "    .dataframe tbody tr th {\n",
       "        vertical-align: top;\n",
       "    }\n",
       "\n",
       "    .dataframe thead th {\n",
       "        text-align: right;\n",
       "    }\n",
       "</style>\n",
       "<table border=\"1\" class=\"dataframe\">\n",
       "  <thead>\n",
       "    <tr style=\"text-align: right;\">\n",
       "      <th></th>\n",
       "      <th>Celsius</th>\n",
       "      <th>Farenheit</th>\n",
       "    </tr>\n",
       "  </thead>\n",
       "  <tbody>\n",
       "    <tr>\n",
       "      <th>0</th>\n",
       "      <td>-10</td>\n",
       "      <td>14.0</td>\n",
       "    </tr>\n",
       "    <tr>\n",
       "      <th>1</th>\n",
       "      <td>20</td>\n",
       "      <td>68.0</td>\n",
       "    </tr>\n",
       "    <tr>\n",
       "      <th>2</th>\n",
       "      <td>28</td>\n",
       "      <td>82.4</td>\n",
       "    </tr>\n",
       "    <tr>\n",
       "      <th>3</th>\n",
       "      <td>30</td>\n",
       "      <td>86.0</td>\n",
       "    </tr>\n",
       "    <tr>\n",
       "      <th>4</th>\n",
       "      <td>40</td>\n",
       "      <td>104.0</td>\n",
       "    </tr>\n",
       "  </tbody>\n",
       "</table>\n",
       "</div>"
      ],
      "text/plain": [
       "   Celsius  Farenheit\n",
       "0      -10       14.0\n",
       "1       20       68.0\n",
       "2       28       82.4\n",
       "3       30       86.0\n",
       "4       40      104.0"
      ]
     },
     "execution_count": 4,
     "metadata": {},
     "output_type": "execute_result"
    }
   ],
   "source": [
    "df = pd.DataFrame({'Celsius': temp_celsius, 'Farenheit': temp_farenheit})\n",
    "df"
   ]
  },
  {
   "cell_type": "code",
   "execution_count": 5,
   "id": "8ed5be7a-dab4-4805-9afb-791f746976a2",
   "metadata": {
    "tags": []
   },
   "outputs": [],
   "source": [
    "x = torch.FloatTensor(df.Celsius.values.astype(float))\n",
    "y = torch.FloatTensor(df.Farenheit.values.astype(float))\n",
    "y = y.unsqueeze(1)"
   ]
  },
  {
   "cell_type": "code",
   "execution_count": 6,
   "id": "854b476e-200f-40eb-adda-ece692b6c8ee",
   "metadata": {
    "tags": []
   },
   "outputs": [],
   "source": [
    "class Model(nn.Module):\n",
    "    def __init__(self):\n",
    "        super().__init__()\n",
    "        self.input_layer = nn.Linear(in_features=1,out_features=1,bias=True)\n",
    "    \n",
    "    def forward(self,x):\n",
    "        out = self.input_layer(x)\n",
    "        return out"
   ]
  },
  {
   "cell_type": "code",
   "execution_count": 7,
   "id": "b03e10cc-1a56-4039-99e7-c0484370c97d",
   "metadata": {
    "tags": []
   },
   "outputs": [],
   "source": [
    "EPOCHS = 1000\n",
    "LR = 0.2"
   ]
  },
  {
   "cell_type": "code",
   "execution_count": 8,
   "id": "3ccfac76-e5cb-4046-b189-9b77955c3492",
   "metadata": {
    "tags": []
   },
   "outputs": [],
   "source": [
    "model = Model()\n",
    "criterion = nn.MSELoss()\n",
    "optimizer = torch.optim.Adam(params=model.parameters(), lr=LR)"
   ]
  },
  {
   "cell_type": "code",
   "execution_count": 9,
   "id": "376b97dc-a0b8-4a50-88bf-740a92543330",
   "metadata": {
    "tags": []
   },
   "outputs": [],
   "source": [
    "x = x.view(x.size(0),-1)"
   ]
  },
  {
   "cell_type": "code",
   "execution_count": 11,
   "id": "3aa5c48c-bbff-4d43-a77c-123236871f71",
   "metadata": {
    "tags": []
   },
   "outputs": [
    {
     "name": "stdout",
     "output_type": "stream",
     "text": [
      "Weight: 1.80 Bias: 32.00\n"
     ]
    }
   ],
   "source": [
    "weights = []\n",
    "bias = []\n",
    "for epoch in range(EPOCHS):\n",
    "    \n",
    "    outputs = model.forward(x)\n",
    "    \n",
    "    loss = criterion(outputs, y)\n",
    "    \n",
    "    optimizer.zero_grad()\n",
    "    \n",
    "    loss.backward()\n",
    "    \n",
    "    optimizer.step()\n",
    "    \n",
    "    weights.append(model.input_layer.weight.item())\n",
    "    \n",
    "    bias.append(model.input_layer.bias.item())\n",
    "    \n",
    "print(f'Weight: {model.input_layer.weight.item():.2f} Bias: {model.input_layer.bias.item():.2f}')"
   ]
  },
  {
   "cell_type": "code",
   "execution_count": 12,
   "id": "62559c51-da51-4c80-8eb3-232da263eee6",
   "metadata": {
    "tags": []
   },
   "outputs": [],
   "source": [
    "training_data = pd.DataFrame({'Pesos':weights, 'Bias':bias})\n",
    "training_data.to_csv('celsius_to_farenheit_training_data.csv',index=False)"
   ]
  },
  {
   "cell_type": "code",
   "execution_count": 13,
   "id": "cca33836-bb96-4a7f-b61d-36b2eaa56150",
   "metadata": {
    "tags": []
   },
   "outputs": [
    {
     "data": {
      "text/html": [
       "<div>\n",
       "<style scoped>\n",
       "    .dataframe tbody tr th:only-of-type {\n",
       "        vertical-align: middle;\n",
       "    }\n",
       "\n",
       "    .dataframe tbody tr th {\n",
       "        vertical-align: top;\n",
       "    }\n",
       "\n",
       "    .dataframe thead th {\n",
       "        text-align: right;\n",
       "    }\n",
       "</style>\n",
       "<table border=\"1\" class=\"dataframe\">\n",
       "  <thead>\n",
       "    <tr style=\"text-align: right;\">\n",
       "      <th></th>\n",
       "      <th>Pesos</th>\n",
       "      <th>Bias</th>\n",
       "    </tr>\n",
       "  </thead>\n",
       "  <tbody>\n",
       "    <tr>\n",
       "      <th>0</th>\n",
       "      <td>0.309096</td>\n",
       "      <td>0.321889</td>\n",
       "    </tr>\n",
       "    <tr>\n",
       "      <th>1</th>\n",
       "      <td>0.508497</td>\n",
       "      <td>0.521417</td>\n",
       "    </tr>\n",
       "    <tr>\n",
       "      <th>2</th>\n",
       "      <td>0.706821</td>\n",
       "      <td>0.720105</td>\n",
       "    </tr>\n",
       "    <tr>\n",
       "      <th>3</th>\n",
       "      <td>0.903516</td>\n",
       "      <td>0.917547</td>\n",
       "    </tr>\n",
       "    <tr>\n",
       "      <th>4</th>\n",
       "      <td>1.097957</td>\n",
       "      <td>1.113292</td>\n",
       "    </tr>\n",
       "  </tbody>\n",
       "</table>\n",
       "</div>"
      ],
      "text/plain": [
       "      Pesos      Bias\n",
       "0  0.309096  0.321889\n",
       "1  0.508497  0.521417\n",
       "2  0.706821  0.720105\n",
       "3  0.903516  0.917547\n",
       "4  1.097957  1.113292"
      ]
     },
     "execution_count": 13,
     "metadata": {},
     "output_type": "execute_result"
    }
   ],
   "source": [
    "training_data.head()"
   ]
  },
  {
   "cell_type": "code",
   "execution_count": 14,
   "id": "70310d14-4c0b-4554-bc96-cd1fbdd43654",
   "metadata": {
    "tags": []
   },
   "outputs": [],
   "source": [
    "value_to_calculate = 60"
   ]
  },
  {
   "cell_type": "code",
   "execution_count": 15,
   "id": "adad7d95-0fa7-43e0-b5d0-f547a43c6ef8",
   "metadata": {
    "tags": []
   },
   "outputs": [
    {
     "name": "stdout",
     "output_type": "stream",
     "text": [
      "Predicted Value:tensor([140.0007], grad_fn=<ViewBackward0>)\n",
      "Real Value: 140.00\n"
     ]
    }
   ],
   "source": [
    "print(f'Predicted Value:{model.forward(torch.FloatTensor([value_to_calculate]))}')\n",
    "print(f'Real Value: {convert_celsius_to_farenheit(value_to_calculate):.2f}')"
   ]
  }
 ],
 "metadata": {
  "kernelspec": {
   "display_name": "Python 3.9",
   "language": "python",
   "name": "python3"
  },
  "language_info": {
   "codemirror_mode": {
    "name": "ipython",
    "version": 3
   },
   "file_extension": ".py",
   "mimetype": "text/x-python",
   "name": "python",
   "nbconvert_exporter": "python",
   "pygments_lexer": "ipython3",
   "version": "3.9.16"
  }
 },
 "nbformat": 4,
 "nbformat_minor": 5
}
